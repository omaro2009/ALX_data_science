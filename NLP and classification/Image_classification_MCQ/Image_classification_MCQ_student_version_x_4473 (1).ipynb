{
  "cells": [
    {
      "cell_type": "markdown",
      "metadata": {
        "id": "kZz-A8wJhg0M"
      },
      "source": [
        "<div align=\"center\" style=\" font-size: 80%; text-align: center; margin: 0 auto\">\n",
        "<img src=\"https://raw.githubusercontent.com/Explore-AI/Pictures/master/Python-Notebook-Banners/Code_challenge.png\"  style=\"display: block; margin-left: auto; margin-right: auto;\";/>\n",
        "</div>"
      ]
    },
    {
      "cell_type": "markdown",
      "metadata": {
        "id": "02VBjK6khg0O"
      },
      "source": [
        "\n",
        "## Image classification MCQ\n",
        "© ExploreAI Academy"
      ]
    },
    {
      "cell_type": "markdown",
      "metadata": {
        "id": "kuV4iz15hg0P"
      },
      "source": [
        "The versatile machine learning techniques you have been learning will enable you to process complex and different data at a faster pace.  \n",
        "\n",
        "So far you have performed classification on both tabular  ([iris dataset](https://scikit-learn.org/stable/auto_examples/datasets/plot_iris_dataset.html)) and textual data ([the mbti dataset](https://www.kaggle.com/datasnaek/mbti-type)). In this notebook, you will apply the machine learning techniques you have learned for image classification."
      ]
    },
    {
      "cell_type": "markdown",
      "metadata": {
        "id": "JlTT2Wfqhg0Q"
      },
      "source": [
        "## Imports\n",
        "\n",
        "Let's go ahead and load our libraries"
      ]
    },
    {
      "cell_type": "code",
      "execution_count": 2,
      "metadata": {
        "id": "d3asnGgGhg0R"
      },
      "outputs": [],
      "source": [
        "import numpy as np\n",
        "import gzip # This is used in extracting the images\n",
        "\n",
        "import matplotlib.pyplot as plt # In order to plot the images to see what we are dealing with\n",
        "from sklearn.ensemble import RandomForestClassifier # You'll be using Random Forest to classify the images\n",
        "from sklearn.metrics import accuracy_score # Sklearn's way of measuring accuracy\n",
        "from sklearn.metrics import classification_report"
      ]
    },
    {
      "cell_type": "markdown",
      "metadata": {
        "id": "7Ew6QB8Ghg0S"
      },
      "source": [
        "\n",
        "# The data\n",
        "\n",
        "The dataset we will be using is called `MNIST`. This is a large collection of hand-drawn digits `0 to 9` and is a good dataset to learn image classification on as it requires little to no preprocessing.\n",
        "\n",
        "The dataset can be downloaded from [The MNIST Database](https://web.archive.org/web/20220331130319/https://yann.lecun.com/exdb/mnist/). Download all four files. These files are the images and their respective labels (normally, we're required to split the x (image data / characteristics) and y (labels) out during preprocessing, but this has already been done for us). The dataset has also already been split into a train and a test set.\n",
        "\n",
        "Once you've downloaded the data, make sure that the data are in the same folder as this Jupyter notebook. If you've managed to do all that, we can now begin!\n",
        "\n",
        "By default, the MNIST files are compressed in the gzip format. The following two functions will extract the data for you. ** **Don't change this code.** **"
      ]
    },
    {
      "cell_type": "code",
      "source": [
        "from google.colab import files\n",
        "uploaded = files.upload()\n"
      ],
      "metadata": {
        "colab": {
          "base_uri": "https://localhost:8080/",
          "height": 73
        },
        "id": "pKKKJC9LiZxL",
        "outputId": "66a65aca-44ac-48b6-e49a-dcc70354dfe3"
      },
      "execution_count": 7,
      "outputs": [
        {
          "output_type": "display_data",
          "data": {
            "text/plain": [
              "<IPython.core.display.HTML object>"
            ],
            "text/html": [
              "\n",
              "     <input type=\"file\" id=\"files-70df2b4d-6838-4e57-879f-810898773657\" name=\"files[]\" multiple disabled\n",
              "        style=\"border:none\" />\n",
              "     <output id=\"result-70df2b4d-6838-4e57-879f-810898773657\">\n",
              "      Upload widget is only available when the cell has been executed in the\n",
              "      current browser session. Please rerun this cell to enable.\n",
              "      </output>\n",
              "      <script>// Copyright 2017 Google LLC\n",
              "//\n",
              "// Licensed under the Apache License, Version 2.0 (the \"License\");\n",
              "// you may not use this file except in compliance with the License.\n",
              "// You may obtain a copy of the License at\n",
              "//\n",
              "//      http://www.apache.org/licenses/LICENSE-2.0\n",
              "//\n",
              "// Unless required by applicable law or agreed to in writing, software\n",
              "// distributed under the License is distributed on an \"AS IS\" BASIS,\n",
              "// WITHOUT WARRANTIES OR CONDITIONS OF ANY KIND, either express or implied.\n",
              "// See the License for the specific language governing permissions and\n",
              "// limitations under the License.\n",
              "\n",
              "/**\n",
              " * @fileoverview Helpers for google.colab Python module.\n",
              " */\n",
              "(function(scope) {\n",
              "function span(text, styleAttributes = {}) {\n",
              "  const element = document.createElement('span');\n",
              "  element.textContent = text;\n",
              "  for (const key of Object.keys(styleAttributes)) {\n",
              "    element.style[key] = styleAttributes[key];\n",
              "  }\n",
              "  return element;\n",
              "}\n",
              "\n",
              "// Max number of bytes which will be uploaded at a time.\n",
              "const MAX_PAYLOAD_SIZE = 100 * 1024;\n",
              "\n",
              "function _uploadFiles(inputId, outputId) {\n",
              "  const steps = uploadFilesStep(inputId, outputId);\n",
              "  const outputElement = document.getElementById(outputId);\n",
              "  // Cache steps on the outputElement to make it available for the next call\n",
              "  // to uploadFilesContinue from Python.\n",
              "  outputElement.steps = steps;\n",
              "\n",
              "  return _uploadFilesContinue(outputId);\n",
              "}\n",
              "\n",
              "// This is roughly an async generator (not supported in the browser yet),\n",
              "// where there are multiple asynchronous steps and the Python side is going\n",
              "// to poll for completion of each step.\n",
              "// This uses a Promise to block the python side on completion of each step,\n",
              "// then passes the result of the previous step as the input to the next step.\n",
              "function _uploadFilesContinue(outputId) {\n",
              "  const outputElement = document.getElementById(outputId);\n",
              "  const steps = outputElement.steps;\n",
              "\n",
              "  const next = steps.next(outputElement.lastPromiseValue);\n",
              "  return Promise.resolve(next.value.promise).then((value) => {\n",
              "    // Cache the last promise value to make it available to the next\n",
              "    // step of the generator.\n",
              "    outputElement.lastPromiseValue = value;\n",
              "    return next.value.response;\n",
              "  });\n",
              "}\n",
              "\n",
              "/**\n",
              " * Generator function which is called between each async step of the upload\n",
              " * process.\n",
              " * @param {string} inputId Element ID of the input file picker element.\n",
              " * @param {string} outputId Element ID of the output display.\n",
              " * @return {!Iterable<!Object>} Iterable of next steps.\n",
              " */\n",
              "function* uploadFilesStep(inputId, outputId) {\n",
              "  const inputElement = document.getElementById(inputId);\n",
              "  inputElement.disabled = false;\n",
              "\n",
              "  const outputElement = document.getElementById(outputId);\n",
              "  outputElement.innerHTML = '';\n",
              "\n",
              "  const pickedPromise = new Promise((resolve) => {\n",
              "    inputElement.addEventListener('change', (e) => {\n",
              "      resolve(e.target.files);\n",
              "    });\n",
              "  });\n",
              "\n",
              "  const cancel = document.createElement('button');\n",
              "  inputElement.parentElement.appendChild(cancel);\n",
              "  cancel.textContent = 'Cancel upload';\n",
              "  const cancelPromise = new Promise((resolve) => {\n",
              "    cancel.onclick = () => {\n",
              "      resolve(null);\n",
              "    };\n",
              "  });\n",
              "\n",
              "  // Wait for the user to pick the files.\n",
              "  const files = yield {\n",
              "    promise: Promise.race([pickedPromise, cancelPromise]),\n",
              "    response: {\n",
              "      action: 'starting',\n",
              "    }\n",
              "  };\n",
              "\n",
              "  cancel.remove();\n",
              "\n",
              "  // Disable the input element since further picks are not allowed.\n",
              "  inputElement.disabled = true;\n",
              "\n",
              "  if (!files) {\n",
              "    return {\n",
              "      response: {\n",
              "        action: 'complete',\n",
              "      }\n",
              "    };\n",
              "  }\n",
              "\n",
              "  for (const file of files) {\n",
              "    const li = document.createElement('li');\n",
              "    li.append(span(file.name, {fontWeight: 'bold'}));\n",
              "    li.append(span(\n",
              "        `(${file.type || 'n/a'}) - ${file.size} bytes, ` +\n",
              "        `last modified: ${\n",
              "            file.lastModifiedDate ? file.lastModifiedDate.toLocaleDateString() :\n",
              "                                    'n/a'} - `));\n",
              "    const percent = span('0% done');\n",
              "    li.appendChild(percent);\n",
              "\n",
              "    outputElement.appendChild(li);\n",
              "\n",
              "    const fileDataPromise = new Promise((resolve) => {\n",
              "      const reader = new FileReader();\n",
              "      reader.onload = (e) => {\n",
              "        resolve(e.target.result);\n",
              "      };\n",
              "      reader.readAsArrayBuffer(file);\n",
              "    });\n",
              "    // Wait for the data to be ready.\n",
              "    let fileData = yield {\n",
              "      promise: fileDataPromise,\n",
              "      response: {\n",
              "        action: 'continue',\n",
              "      }\n",
              "    };\n",
              "\n",
              "    // Use a chunked sending to avoid message size limits. See b/62115660.\n",
              "    let position = 0;\n",
              "    do {\n",
              "      const length = Math.min(fileData.byteLength - position, MAX_PAYLOAD_SIZE);\n",
              "      const chunk = new Uint8Array(fileData, position, length);\n",
              "      position += length;\n",
              "\n",
              "      const base64 = btoa(String.fromCharCode.apply(null, chunk));\n",
              "      yield {\n",
              "        response: {\n",
              "          action: 'append',\n",
              "          file: file.name,\n",
              "          data: base64,\n",
              "        },\n",
              "      };\n",
              "\n",
              "      let percentDone = fileData.byteLength === 0 ?\n",
              "          100 :\n",
              "          Math.round((position / fileData.byteLength) * 100);\n",
              "      percent.textContent = `${percentDone}% done`;\n",
              "\n",
              "    } while (position < fileData.byteLength);\n",
              "  }\n",
              "\n",
              "  // All done.\n",
              "  yield {\n",
              "    response: {\n",
              "      action: 'complete',\n",
              "    }\n",
              "  };\n",
              "}\n",
              "\n",
              "scope.google = scope.google || {};\n",
              "scope.google.colab = scope.google.colab || {};\n",
              "scope.google.colab._files = {\n",
              "  _uploadFiles,\n",
              "  _uploadFilesContinue,\n",
              "};\n",
              "})(self);\n",
              "</script> "
            ]
          },
          "metadata": {}
        },
        {
          "output_type": "stream",
          "name": "stdout",
          "text": [
            "Saving train-labels-idx1-ubyte.gz to train-labels-idx1-ubyte.gz\n"
          ]
        }
      ]
    },
    {
      "cell_type": "code",
      "execution_count": 8,
      "metadata": {
        "id": "3lbVap-Xhg0T"
      },
      "outputs": [],
      "source": [
        "def extract_data(filename, num_images, IMAGE_WIDTH):\n",
        "    \"\"\"Extract the images into a 4D tensor [image index, y, x, channels].\"\"\"\n",
        "    with gzip.open(filename) as bytestream:\n",
        "        bytestream.read(16)\n",
        "        buf = bytestream.read(IMAGE_WIDTH * IMAGE_WIDTH * num_images)\n",
        "        data = np.frombuffer(buf, dtype=np.uint8).astype(np.float32)\n",
        "        data = data.reshape(num_images, IMAGE_WIDTH*IMAGE_WIDTH)\n",
        "        return data\n",
        "\n",
        "def extract_labels(filename, num_images):\n",
        "    \"\"\"Extract the labels into a vector of int64 label IDs.\"\"\"\n",
        "    with gzip.open(filename) as bytestream:\n",
        "        bytestream.read(8)\n",
        "        buf = bytestream.read(1 * num_images)\n",
        "        labels = np.frombuffer(buf, dtype=np.uint8).astype(np.int64)\n",
        "    return labels"
      ]
    },
    {
      "cell_type": "markdown",
      "metadata": {
        "id": "qLtbU1gYhg0U"
      },
      "source": [
        "## Challenge 1: Extracting the data\n",
        "\n",
        "The MNIST dataset consists of 60,000 training images and 10,000 testing images. This is a lot of data! Let's not extract all of that right now. Create a function `get_data` that uses the above functions to extract a certain number of images and their labels from the gzip files.\n",
        "\n",
        "The function will take as input two integer values, the number of train and test images to be extracted. Let's extract `5000` train images and `1000` test images. The function then returns four variables in the form of `(X_train, y_train), (X_test, y_test)`, where `(X_train, y_train)` are the extracted images and labels of the training set, and `(X-test, y_test)` are the extracted images and labels of the testing set. (Hint – you'll have to use the functions provided more than once.)\n",
        "\n",
        "Image pixel values range from 0 to 255. We need to normalise the image pixels so that they are in the range 0 to 1.\n",
        "\n",
        "_**Function specifications:**_\n",
        "* Should take two integers as input, one representing the number of training images and the other the number of testing images.\n",
        "* Should return two `tuples` of the form `(X_train, y_train), (X_test, y_test)`.\n",
        "\n",
        "_**Note**_ that the size of the MNIST images is 28x28.\n",
        "\n",
        "Usually when setting up your dataset, it is a good idea to randomly shuffle your data in case your data are ordered. Think of this as shuffling a pack of cards. Here, however, we aren't going to shuffle the data so that all our answers are the same."
      ]
    },
    {
      "cell_type": "code",
      "execution_count": 9,
      "metadata": {
        "colab": {
          "base_uri": "https://localhost:8080/"
        },
        "id": "7A9LXb-rhg0U",
        "outputId": "9f9c4f84-91c3-4dfa-ec73-457756b539c0"
      },
      "outputs": [
        {
          "output_type": "stream",
          "name": "stdout",
          "text": [
            "0.10980392\n",
            "6\n"
          ]
        }
      ],
      "source": [
        "### START FUNCTION\n",
        "train_images_file='train-images-idx3-ubyte.gz'\n",
        "train_labels_file='train-labels-idx1-ubyte.gz'\n",
        "test_images_file='t10k-images-idx3-ubyte.gz'\n",
        "test_labels_file='t10k-labels-idx1-ubyte.gz'\n",
        "def get_data(num_train_images,num_test_images):\n",
        "    #your code here\n",
        "    IMAGE_WIDTH = 28\n",
        "    NUM_TRAIN_IMAGES = 5000\n",
        "    NUM_TEST_IMAGES = 1000\n",
        "\n",
        "    X_train = extract_data(train_images_file, NUM_TRAIN_IMAGES, IMAGE_WIDTH)\n",
        "    y_train = extract_labels(train_labels_file, NUM_TRAIN_IMAGES)\n",
        "    X_test = extract_data(test_images_file, NUM_TEST_IMAGES, IMAGE_WIDTH)\n",
        "    y_test = extract_labels(test_labels_file, NUM_TEST_IMAGES)\n",
        "\n",
        "    #your code here\n",
        "    X_train /= 255.0\n",
        "    X_test /= 255.0\n",
        "    # Select the specified number of images\n",
        "\n",
        "\n",
        "\n",
        "\n",
        "    return (X_train, y_train), (X_test, y_test)\n",
        "\n",
        "### END FUNCTION\n",
        "(X_train, y_train), (X_test, y_test) = get_data(5000, 1000)\n",
        "print( X_train[1, 349])\n",
        "print( y_test[50])"
      ]
    },
    {
      "cell_type": "markdown",
      "metadata": {
        "id": "OJiHkcWqhg0V"
      },
      "source": [
        "## Plotting the data\n",
        "\n",
        "Let's see what this data looks like! Right now the images are \"flattened\" into a 1-D array of length 784. In order to plot the image we first need to reshape it to the correct size of 28x28. We'll print out the respective label to make sure we are plotting the right number."
      ]
    },
    {
      "cell_type": "code",
      "execution_count": 11,
      "metadata": {
        "colab": {
          "base_uri": "https://localhost:8080/",
          "height": 448
        },
        "id": "1O6WLhS2hg0V",
        "outputId": "e7fca1d4-e0c8-4723-b04c-2f1677049d6b"
      },
      "outputs": [
        {
          "output_type": "stream",
          "name": "stdout",
          "text": [
            "Label:  1\n"
          ]
        },
        {
          "output_type": "display_data",
          "data": {
            "text/plain": [
              "<Figure size 640x480 with 1 Axes>"
            ],
            "image/png": "[encoded data removed]"
          },
          "metadata": {}
        }
      ],
      "source": [
        "\n",
        "image_index = 3 ## Change me to view different images\n",
        "\n",
        "print(\"Label: \", y_train[image_index])\n",
        "reshaped_image = X_train[image_index].reshape((28, 28))\n",
        "\n",
        "plt.imshow(reshaped_image, cmap='gray')\n",
        "plt.show()"
      ]
    },
    {
      "cell_type": "markdown",
      "metadata": {
        "id": "-hJhG8bXhg0W"
      },
      "source": [
        "## Challenge 2: Training the model\n",
        "\n",
        "Now that we have formatted our data, we can fit a model using sklearn's `RandomForestClassifier` class with `20 estimators` and its `random_state` set to `42`. We'll write a function that will take as input the image and label variables that we created previously, and return a trained model.\n",
        "\n",
        "_**Function specifications:**_\n",
        "* Should take two NumPy `arrays` as input in the form `(X_train, y_train)`.\n",
        "* Should return an sklearn `RandomForestClassifier` model which has a random state of 42 and number of estimators 20.\n",
        "* The returned model should be fitted to the data."
      ]
    },
    {
      "cell_type": "code",
      "execution_count": 12,
      "metadata": {
        "id": "qBK16ijrhg0X"
      },
      "outputs": [],
      "source": [
        "### START FUNCTION\n",
        "def train_model(X_train, y_train):\n",
        "    model = RandomForestClassifier(n_estimators=20, random_state=42)\n",
        "    model.fit(X_train, y_train)\n",
        "    return model\n",
        "\n",
        "\n",
        "### END FUNCTION"
      ]
    },
    {
      "cell_type": "code",
      "execution_count": 13,
      "metadata": {
        "id": "t_SZWj3jhg0X"
      },
      "outputs": [],
      "source": [
        "clf = train_model(X_train, y_train)"
      ]
    },
    {
      "cell_type": "markdown",
      "metadata": {
        "id": "9yDxdOcQhg0Y"
      },
      "source": [
        "## Challenge 3: Testing the model\n",
        "\n",
        "Now that you have trained your model, let's see how well it does on the test set. Write a function which returns the accuracy of our trained model when tested with the test set.\n",
        "\n",
        "_**Function specifications:**_\n",
        "* Should take the fitted model `clf` and two NumPy arrays `X_test, y_test` as input.\n",
        "* Should return a `float` of the accuracy of the model. This number should be between zero and one."
      ]
    },
    {
      "cell_type": "code",
      "execution_count": 14,
      "metadata": {
        "id": "LfdB8XZvhg0Y"
      },
      "outputs": [],
      "source": [
        "### START FUNCTION\n",
        "def calculate_accuracy(clf, X_test, y_test):\n",
        "    y_pred = clf.predict(X_test)\n",
        "\n",
        "    # Calculate the accuracy of the model\n",
        "    accuracy = np.mean(y_pred == y_test)\n",
        "    return accuracy\n",
        "\n",
        "### END FUNCTION"
      ]
    },
    {
      "cell_type": "code",
      "source": [
        "from sklearn.metrics import precision_score\n",
        "def calculate_precision_for_label(clf, X_test, y_test, label):\n",
        "    # Use the trained model to predict labels for the test set\n",
        "    y_pred = clf.predict(X_test)\n",
        "\n",
        "    # Calculate precision for the specified label\n",
        "    precision = precision_score(y_test, y_pred, average=None)[label]\n",
        "    return precision\n",
        "precision_6 = calculate_precision_for_label(clf, X_test, y_test, label=6)\n",
        "print(\"Precision for label 6:\", precision_6)"
      ],
      "metadata": {
        "colab": {
          "base_uri": "https://localhost:8080/"
        },
        "id": "6ez2xb1k3vRw",
        "outputId": "32171f16-0922-4753-ea8b-e32acb6d2af5"
      },
      "execution_count": 15,
      "outputs": [
        {
          "output_type": "stream",
          "name": "stdout",
          "text": [
            "Precision for label 6: 0.9101123595505618\n"
          ]
        }
      ]
    },
    {
      "cell_type": "code",
      "source": [
        "from sklearn.metrics import f1_score\n",
        "\n",
        "def calculate_f1_score_for_label(clf, X_test, y_test, label):\n",
        "    # Use the trained model to predict labels for the test set\n",
        "    y_pred = clf.predict(X_test)\n",
        "\n",
        "    # Calculate F1-score for the specified label\n",
        "    f1_score_value = f1_score(y_test, y_pred, average=None)[label]\n",
        "    return f1_score_value\n",
        "f1_score_0 = calculate_f1_score_for_label(clf, X_test, y_test, label=0)\n",
        "print(\"F1-score for label 0:\", f1_score_0)\n"
      ],
      "metadata": {
        "colab": {
          "base_uri": "https://localhost:8080/"
        },
        "id": "Ff6nYfs54nmO",
        "outputId": "1448f7c1-4f61-418d-8ef0-3b61ce1bb6b2"
      },
      "execution_count": 16,
      "outputs": [
        {
          "output_type": "stream",
          "name": "stdout",
          "text": [
            "F1-score for label 0: 0.9655172413793103\n"
          ]
        }
      ]
    },
    {
      "cell_type": "code",
      "execution_count": 17,
      "metadata": {
        "colab": {
          "base_uri": "https://localhost:8080/"
        },
        "id": "Oc0j-4JRhg0Y",
        "outputId": "307f6f19-a422-491d-9d14-02563bf4ce09"
      },
      "outputs": [
        {
          "output_type": "stream",
          "name": "stdout",
          "text": [
            "0.891\n"
          ]
        }
      ],
      "source": [
        "print(calculate_accuracy(clf,X_test,y_test))"
      ]
    },
    {
      "cell_type": "markdown",
      "metadata": {
        "id": "ik-I19OMhg0Z"
      },
      "source": [
        "Classification reports give us more information on where our model is going wrong – looking specifically at the performance caused by Type I and II errors. Write a function that returns the classification report of your test set.\n",
        "\n",
        "_**Function specifications:**_\n",
        "* Should take the fitted model `clf` and two NumPy arrays `X_test, y_test` as input.\n",
        "* Should return a classification report."
      ]
    },
    {
      "cell_type": "code",
      "execution_count": 18,
      "metadata": {
        "id": "YiSRTLVFhg0Z"
      },
      "outputs": [],
      "source": [
        "### START FUNCTION\n",
        "\n",
        "from sklearn.metrics import classification_report\n",
        "def get_class_report(clf, X_test, y_test):\n",
        "    y_pred = clf.predict(X_test)\n",
        "\n",
        "    # Generate the classification report\n",
        "    report = classification_report(y_test, y_pred)\n",
        "    return report\n",
        "\n",
        "### END FUNCTION"
      ]
    },
    {
      "cell_type": "code",
      "execution_count": 19,
      "metadata": {
        "colab": {
          "base_uri": "https://localhost:8080/"
        },
        "id": "k_NxWo0bhg0Z",
        "outputId": "535fadb1-5d5e-43c4-a1b3-81aa8ec73047"
      },
      "outputs": [
        {
          "output_type": "stream",
          "name": "stdout",
          "text": [
            "              precision    recall  f1-score   support\n",
            "\n",
            "           0       0.94      0.99      0.97        85\n",
            "           1       0.98      0.98      0.98       126\n",
            "           2       0.88      0.90      0.89       116\n",
            "           3       0.84      0.83      0.84       107\n",
            "           4       0.86      0.90      0.88       110\n",
            "           5       0.86      0.85      0.86        87\n",
            "           6       0.91      0.93      0.92        87\n",
            "           7       0.88      0.85      0.87        99\n",
            "           8       0.93      0.78      0.85        89\n",
            "           9       0.81      0.88      0.85        94\n",
            "\n",
            "    accuracy                           0.89      1000\n",
            "   macro avg       0.89      0.89      0.89      1000\n",
            "weighted avg       0.89      0.89      0.89      1000\n",
            "\n"
          ]
        }
      ],
      "source": [
        "print(get_class_report(clf,X_test,y_test))"
      ]
    },
    {
      "cell_type": "markdown",
      "metadata": {
        "id": "Rw-NQFZnhg0a"
      },
      "source": [
        "## Plotting the results\n",
        "\n",
        "Let's actually see if our model has trained correctly. To do so, plot some of the images with their predicted labels. Since we don't have the predictions stored in our notebook's memory, we need to call the predict function here first."
      ]
    },
    {
      "cell_type": "code",
      "execution_count": 20,
      "metadata": {
        "colab": {
          "base_uri": "https://localhost:8080/",
          "height": 448
        },
        "id": "HkOpPxothg0a",
        "outputId": "3b14660e-6316-4e1b-a728-ec885feb3a8a"
      },
      "outputs": [
        {
          "output_type": "stream",
          "name": "stdout",
          "text": [
            "Predicted Label:  7\n"
          ]
        },
        {
          "output_type": "display_data",
          "data": {
            "text/plain": [
              "<Figure size 640x480 with 1 Axes>"
            ],
            "image/png": "[encoded data removed]"
          },
          "metadata": {}
        }
      ],
      "source": [
        "preds = clf.predict(X_test)\n",
        "\n",
        "image_index = 60 ## Change me to see other predictions\n",
        "\n",
        "print(\"Predicted Label: \",preds[image_index])\n",
        "plt.imshow(X_test[image_index].reshape((28, 28)), cmap='gray')\n",
        "plt.show()"
      ]
    },
    {
      "cell_type": "code",
      "source": [
        "#question1\n",
        "X_train_shape = X_train.shape\n",
        "X_test_shape = X_test.shape\n",
        "\n",
        "print(\"Shape of X_train:\", X_train_shape)\n",
        "print(\"Shape of X_test:\", X_test_shape)"
      ],
      "metadata": {
        "colab": {
          "base_uri": "https://localhost:8080/"
        },
        "id": "Jf0Ye7vFzDTe",
        "outputId": "fc8ef167-4b60-4d8b-c2ef-2d112b846de7"
      },
      "execution_count": 21,
      "outputs": [
        {
          "output_type": "stream",
          "name": "stdout",
          "text": [
            "Shape of X_train: (5000, 784)\n",
            "Shape of X_test: (1000, 784)\n"
          ]
        }
      ]
    },
    {
      "cell_type": "markdown",
      "metadata": {
        "id": "qoDCQbkshg0a"
      },
      "source": [
        "Since we didn't use all the data in the beginning, there is a chance our performance can improve. Go change the amount of data we use to see how it affects the accuracy of your model."
      ]
    },
    {
      "cell_type": "markdown",
      "metadata": {
        "id": "oePQd3_Mhg0a"
      },
      "source": [
        "#  \n",
        "\n",
        "<div align=\"center\" style=\" font-size: 80%; text-align: center; margin: 0 auto\">\n",
        "<img src=\"https://raw.githubusercontent.com/Explore-AI/Pictures/master/ExploreAI_logos/EAI_Blue_Dark.png\"  style=\"width:200px\";/>\n",
        "</div>"
      ]
    }
  ],
  "metadata": {
    "kernelspec": {
      "display_name": "Python 3 (ipykernel)",
      "language": "python",
      "name": "python3"
    },
    "language_info": {
      "codemirror_mode": {
        "name": "ipython",
        "version": 3
      },
      "file_extension": ".py",
      "mimetype": "text/x-python",
      "name": "python",
      "nbconvert_exporter": "python",
      "pygments_lexer": "ipython3",
      "version": "3.11.4"
    },
    "colab": {
      "provenance": []
    }
  },
  "nbformat": 4,
  "nbformat_minor": 0
}